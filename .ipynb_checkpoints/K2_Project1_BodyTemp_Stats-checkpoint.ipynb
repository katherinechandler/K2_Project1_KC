{
 "cells": [
  {
   "cell_type": "markdown",
   "metadata": {},
   "source": [
    "# K2 Data Science: Project 1\n",
    "## Project Option 4 – Mathematics"
   ]
  },
  {
   "cell_type": "markdown",
   "metadata": {},
   "source": [
    "## Project Prompt\n",
    "\n",
    "In regard to the average human body temperature, is the true population mean really 98.6&deg;F? This\n",
    "question is derived from this site. Read in the data by downloading the data file or by using\n",
    "the URL with pandas and perform a z-test or t-test to prove that the true population mean is not\n",
    "98.6&deg;F. Use numpy and scipy."
   ]
  },
  {
   "cell_type": "code",
   "execution_count": 3,
   "metadata": {
    "collapsed": true
   },
   "outputs": [],
   "source": [
    "import pandas as pd\n",
    "import scipy as sp\n",
    "import math\n",
    "import numpy as np\n",
    "import matplotlib as mpl\n",
    "from matplotlib import pyplot as plt\n",
    "%matplotlib inline"
   ]
  },
  {
   "cell_type": "code",
   "execution_count": 4,
   "metadata": {
    "collapsed": true
   },
   "outputs": [],
   "source": [
    "# jama data set\n",
    "jama_data = pd.read_table('https://ww2.amstat.org/publications/jse/datasets/normtemp.dat.txt', \n",
    "                          sep=\"   \", \n",
    "                          engine='python',\n",
    "                          header=None,\n",
    "                          names = [\"body_temp\", \"sex\", \"heart_rate\"])"
   ]
  },
  {
   "cell_type": "code",
   "execution_count": 5,
   "metadata": {},
   "outputs": [
    {
     "data": {
      "text/html": [
       "<div>\n",
       "<style>\n",
       "    .dataframe thead tr:only-child th {\n",
       "        text-align: right;\n",
       "    }\n",
       "\n",
       "    .dataframe thead th {\n",
       "        text-align: left;\n",
       "    }\n",
       "\n",
       "    .dataframe tbody tr th {\n",
       "        vertical-align: top;\n",
       "    }\n",
       "</style>\n",
       "<table border=\"1\" class=\"dataframe\">\n",
       "  <thead>\n",
       "    <tr style=\"text-align: right;\">\n",
       "      <th></th>\n",
       "      <th>body_temp</th>\n",
       "      <th>sex</th>\n",
       "      <th>heart_rate</th>\n",
       "    </tr>\n",
       "  </thead>\n",
       "  <tbody>\n",
       "    <tr>\n",
       "      <th>count</th>\n",
       "      <td>130.000000</td>\n",
       "      <td>130.000000</td>\n",
       "      <td>130.000000</td>\n",
       "    </tr>\n",
       "    <tr>\n",
       "      <th>mean</th>\n",
       "      <td>98.249231</td>\n",
       "      <td>1.500000</td>\n",
       "      <td>73.761538</td>\n",
       "    </tr>\n",
       "    <tr>\n",
       "      <th>std</th>\n",
       "      <td>0.733183</td>\n",
       "      <td>0.501934</td>\n",
       "      <td>7.062077</td>\n",
       "    </tr>\n",
       "    <tr>\n",
       "      <th>min</th>\n",
       "      <td>96.300000</td>\n",
       "      <td>1.000000</td>\n",
       "      <td>57.000000</td>\n",
       "    </tr>\n",
       "    <tr>\n",
       "      <th>25%</th>\n",
       "      <td>97.800000</td>\n",
       "      <td>1.000000</td>\n",
       "      <td>69.000000</td>\n",
       "    </tr>\n",
       "    <tr>\n",
       "      <th>50%</th>\n",
       "      <td>98.300000</td>\n",
       "      <td>1.500000</td>\n",
       "      <td>74.000000</td>\n",
       "    </tr>\n",
       "    <tr>\n",
       "      <th>75%</th>\n",
       "      <td>98.700000</td>\n",
       "      <td>2.000000</td>\n",
       "      <td>79.000000</td>\n",
       "    </tr>\n",
       "    <tr>\n",
       "      <th>max</th>\n",
       "      <td>100.800000</td>\n",
       "      <td>2.000000</td>\n",
       "      <td>89.000000</td>\n",
       "    </tr>\n",
       "  </tbody>\n",
       "</table>\n",
       "</div>"
      ],
      "text/plain": [
       "        body_temp         sex  heart_rate\n",
       "count  130.000000  130.000000  130.000000\n",
       "mean    98.249231    1.500000   73.761538\n",
       "std      0.733183    0.501934    7.062077\n",
       "min     96.300000    1.000000   57.000000\n",
       "25%     97.800000    1.000000   69.000000\n",
       "50%     98.300000    1.500000   74.000000\n",
       "75%     98.700000    2.000000   79.000000\n",
       "max    100.800000    2.000000   89.000000"
      ]
     },
     "execution_count": 5,
     "metadata": {},
     "output_type": "execute_result"
    }
   ],
   "source": [
    "jama_data.describe()"
   ]
  },
  {
   "cell_type": "markdown",
   "metadata": {},
   "source": [
    "## Framing the Approach\n",
    "Is the mean body temperature of the sample set actually the cannonically accepted population mean of 98.6&deg;F? If not, are the two values statistically different? These question were addressed using statistical hypothesis testing following the 4 steps below:\n",
    "\n",
    "1. Define a null and alternative hypothesis.\n",
    "2. Determine if data is normally distributed using a Kolmogorov–Smirnov Test for 'Goodness of Fit'.\n",
    "3. Perform 1-sample t-test; in this case both a manual calculation and the built-in `scipy` test were performed.\n",
    "4. Accept or reject null hypothesis based on t-test outcome.\n",
    "\n",
    "### 1. Defining the Null and Alternative Hypothesis\n",
    "\n",
    "**The Null Hypothesis:**\n",
    "The true population mean of human body temperature is 98.6&deg;F.\n",
    "\n",
    "**Alternative Hypothesis:**\n",
    "The true population mean of human body temperature is **not** 98.6&deg;F. "
   ]
  },
  {
   "cell_type": "markdown",
   "metadata": {},
   "source": [
    "### 2. Determine if data is normally distributed using a Kolmogorov–Smirnov Test for 'Goodness of Fit'\n",
    "Data must be normally distributed for a 1-sample t-test to be valid. This assumption was addressed by 1) plotting the data, and 2) using a Kolmogorov–Smirnov test, which is a non-parametric test to compare a sample with a reference probability distribution (one-sample K–S test)."
   ]
  },
  {
   "cell_type": "code",
   "execution_count": 7,
   "metadata": {},
   "outputs": [
    {
     "data": {
      "image/png": "[encoded data removed]",
      "text/plain": [
       "<matplotlib.figure.Figure at 0x111784cc0>"
      ]
     },
     "metadata": {},
     "output_type": "display_data"
    }
   ],
   "source": [
    "jama_data['body_temp'].hist(bins = 15).set_title('Frequency of Body Temp Occurrences (in Fahrenheit)');"
   ]
  },
  {
   "cell_type": "code",
   "execution_count": 40,
   "metadata": {},
   "outputs": [
    {
     "data": {
      "image/png": "[encoded data removed]",
      "text/plain": [
       "<matplotlib.figure.Figure at 0x1147a83c8>"
      ]
     },
     "metadata": {},
     "output_type": "display_data"
    }
   ],
   "source": [
    "import seaborn as sns\n",
    "\n",
    "sns.set(color_codes=True)\n",
    "ax = sns.distplot(jama_data['body_temp'], bins = 15);\n",
    "ax.set_title('Frequency of Body Temp Occurrences (in Fahrenheit)');\n",
    "ax.set_ylabel('Frequency');"
   ]
  },
  {
   "cell_type": "markdown",
   "metadata": {},
   "source": [
    "The data was plotted using both the built-in Pandas plotting tool and the seaborn plotting package. The seaborn `distplot` plot includes a Kernel Density Estimation (KDE) to estimate the probability density function of the `'body_temp'` variable; this plot suggests a normal distribution. A Kolmogorov–Smirnov Test for 'Goodness of Fit' was also performed to confirm normality."
   ]
  },
  {
   "cell_type": "markdown",
   "metadata": {},
   "source": [
    "#### The Kolmogorov–Smirnov Test for 'Goodness of Fit'\n",
    "\n",
    "First, the data was fit to a normal distribution using the `stats` package in `scipy` in order to determine the appropriate parameters for `'loc'` and `'scale'`. After establishing these parameters, a Kolmogorov–Smirnov test was run using the `cdf` of the fitted normal distribution and the original `jama_data['body_temp']` data set.\n",
    "\n",
    "This test addresses the following hypotheses:\n",
    "\n",
    "**The Null Hypotheses:**\n",
    "The distribution of the human body temperature data set is normal.\n",
    "\n",
    "**Alternative Hypotheses:**\n",
    "The distribution of the human body temperature data set is **not** normal."
   ]
  },
  {
   "cell_type": "code",
   "execution_count": 41,
   "metadata": {},
   "outputs": [
    {
     "data": {
      "text/plain": [
       "KstestResult(statistic=0.063853484278839079, pvalue=0.66453201728406608)"
      ]
     },
     "execution_count": 41,
     "metadata": {},
     "output_type": "execute_result"
    }
   ],
   "source": [
    "from scipy import stats\n",
    "\n",
    "# first fit loc and scale for my data to a normal distribution\n",
    "loc, scale = stats.norm.fit(jama_data['body_temp'])\n",
    "# create a normal distribution with loc and scale\n",
    "n = stats.norm(loc=loc, scale=scale)\n",
    "stats.kstest(jama_data['body_temp'], n.cdf)"
   ]
  },
  {
   "cell_type": "markdown",
   "metadata": {},
   "source": [
    "The low k-statistic and the high p-value determined by the Kolmogorov–Smirnov Test indicates that we cannot reject the null hypothesis and the data fits a normal distribution well. Upon establishing a normal data distribution, t-statistics were calculated."
   ]
  },
  {
   "cell_type": "markdown",
   "metadata": {},
   "source": [
    "### 3a. Perform 1-sample t-test (manual calculation)\n",
    "To compare a given value (the accepted population mean) with a sample population (the data set), a '1-sample t test' statistic was calculated using the formula:   $$t = \\frac{\\bar x - \\mu}{\\frac{s}{\\sqrt{n}}}$$\n",
    "\n",
    "where $\\bar x$ is the sample population mean, $\\mu$ is the value given in the test hypothesis, $s$ is the standard deviation of the sample population, and $n$ is the number of observations in the sample population."
   ]
  },
  {
   "cell_type": "code",
   "execution_count": 11,
   "metadata": {},
   "outputs": [
    {
     "name": "stdout",
     "output_type": "stream",
     "text": [
      "the sample mean is 98.25\n",
      "the one-sample t(dof = 129) is -5.454823292364298\n"
     ]
    }
   ],
   "source": [
    "# manually calculate the t-statistic for a 1-sample t test\n",
    "\n",
    "xbar = jama_data['body_temp'].mean()\n",
    "mu = 98.6\n",
    "s = jama_data['body_temp'].std()\n",
    "n = len(jama_data['body_temp'])\n",
    "dof = (len(jama_data)) -1\n",
    "t = (xbar - mu)/((s/math.sqrt(n)))\n",
    "\n",
    "print('the sample mean is {0:0.2f}'.format(xbar))\n",
    "print('the one-sample t(dof = {}) is {}'.format(dof,t))"
   ]
  },
  {
   "cell_type": "markdown",
   "metadata": {},
   "source": [
    "Looking up the t-statistic in a table of critical values, the α (0.0005, dof = 129) is 3.3676 and the p-value is <0.0001. This is much less than the absolute value of the t-statistic (-5.45) and there is a < 0.05% chance that the null hypothesis is correct. This test supports the alternative hypothesis that the true population mean of human body temperature is **not** 98.6&deg;F. "
   ]
  },
  {
   "cell_type": "markdown",
   "metadata": {},
   "source": [
    "### 3b. Perform 1-sample t-test (built-in `scipy` method)"
   ]
  },
  {
   "cell_type": "code",
   "execution_count": 32,
   "metadata": {},
   "outputs": [
    {
     "name": "stdout",
     "output_type": "stream",
     "text": [
      "the t-statistic is -5.454823292 and the p-value = 0.000000241\n",
      "We reject the null hypothesis. The true population mean of human body temperature is not 98.6 F. \n"
     ]
    }
   ],
   "source": [
    "print('the t-statistic is %6.9f and the p-value = %6.9f' %  stats.ttest_1samp(jama_data['body_temp'], mu))\n",
    "print('We reject the null hypothesis. The true population mean of human body temperature is not 98.6 F. ')"
   ]
  },
  {
   "cell_type": "markdown",
   "metadata": {},
   "source": [
    "Using the ```scipy stats``` package, statistical hypothesis testing is much simpler. As with the manual method, the t-statistic and p-value reject the null hypothesis and indicate that the true population mean of human body temperature is likely **not** 98.6&deg;F."
   ]
  },
  {
   "cell_type": "markdown",
   "metadata": {},
   "source": [
    "### 4. Accept or reject null hypothesis based on t-test outcome.\n",
    "The null hypothesis is rejected. The true population mean of human body temperature is likely **not** 98.6&deg;F."
   ]
  },
  {
   "cell_type": "markdown",
   "metadata": {},
   "source": [
    "## Further Exploration\n",
    "Using the framework established above for hypothesis testing, the relationship between sex and body temperature was explored.\n",
    "\n",
    "This test will address the following hypotheses:\n",
    "\n",
    "**The Null Hypotheses:**\n",
    "The mean body temperature of males and females is the same.\n",
    "\n",
    "**Alternative Hypotheses:**\n",
    "The mean body temperature of males and females is **not** the same."
   ]
  },
  {
   "cell_type": "code",
   "execution_count": 39,
   "metadata": {},
   "outputs": [
    {
     "name": "stdout",
     "output_type": "stream",
     "text": [
      "mean female body temp is 98.393846 with a standard deviation of 0.743488, while mean male body temp is 98.104615 with a standard deviation of 0.698756\n"
     ]
    }
   ],
   "source": [
    "female = jama_data[jama_data['sex'] == 2]\n",
    "male = jama_data[jama_data['sex'] == 1]\n",
    "\n",
    "print('mean female body temp is {:f} with a standard deviation of {:f}, \\\n",
    "while mean male body temp is {:f} with a standard deviation of {:f}'\\\n",
    "      .format(female['body_temp'].mean(),female['body_temp'].std(), \\\n",
    "              male['body_temp'].mean(), male['body_temp'].std()))"
   ]
  },
  {
   "cell_type": "markdown",
   "metadata": {},
   "source": [
    "The mean body temperature is different for males and females. Let's first look at the distributions, then do a two-sample t-test to determine if this difference is statistically significant."
   ]
  },
  {
   "cell_type": "code",
   "execution_count": 14,
   "metadata": {},
   "outputs": [
    {
     "data": {
      "image/png": "[encoded data removed]",
      "text/plain": [
       "<matplotlib.figure.Figure at 0x1168323c8>"
      ]
     },
     "metadata": {},
     "output_type": "display_data"
    }
   ],
   "source": [
    "jama_data['body_temp'].hist(by=jama_data['sex'], bins = 20);"
   ]
  },
  {
   "cell_type": "code",
   "execution_count": 42,
   "metadata": {},
   "outputs": [
    {
     "name": "stdout",
     "output_type": "stream",
     "text": [
      "the t-statistic is 2.285434538 and the p-value = 0.023931883\n",
      "We accept the null hypothesis that the mean body temperature of males and females is the same. \n"
     ]
    }
   ],
   "source": [
    "print('the t-statistic is %6.9f and the p-value = %6.9f' %  \\\n",
    "      stats.ttest_ind(female['body_temp'], male['body_temp']))\n",
    "print('We accept the null hypothesis that the mean body temperature of males and females is the same. ')"
   ]
  },
  {
   "cell_type": "markdown",
   "metadata": {},
   "source": [
    "Looking up the t-value in a table of critical values, the α (0.001, dof = 128) is 3.3682. The absolute value of the t-statistic is **less** than the critical value and the p-value (0.0239) is large, thus we accept the null hypothesis. The difference in mean body temperature of males and females is not statistically significant."
   ]
  },
  {
   "cell_type": "markdown",
   "metadata": {},
   "source": [
    "## Summary of findings\n",
    "1. The sample mean body temperature data follows a normal distribution.\n",
    "\n",
    "2. The sample mean body temperature of 98.25&deg;F is statistically different from the cannonically accepted 98.6&deg;F.\n",
    "\n",
    "3. The difference in mean body temperature value for males and females is not statistically significant.\n"
   ]
  },
  {
   "cell_type": "markdown",
   "metadata": {},
   "source": [
    "## Reference Links\n",
    "\n",
    "\n",
    "https://ww2.amstat.org/publications/jse/datasets/normtemp.txt\n",
    "\n",
    "http://sites.stat.psu.edu/~ajw13/stat200/Fall06/12_testmean/02_testmean.htm\n",
    "\n",
    "https://docs.scipy.org/doc/scipy/reference/tutorial/stats.html\n",
    "\n",
    "https://stackoverflow.com/questions/46678239/p-value-is-0-when-i-use-scipy-stats-kstest-for-large-dataset\n"
   ]
  }
 ],
 "metadata": {
  "kernelspec": {
   "display_name": "Python [conda root]",
   "language": "python",
   "name": "conda-root-py"
  },
  "language_info": {
   "codemirror_mode": {
    "name": "ipython",
    "version": 3
   },
   "file_extension": ".py",
   "mimetype": "text/x-python",
   "name": "python",
   "nbconvert_exporter": "python",
   "pygments_lexer": "ipython3",
   "version": "3.6.1"
  }
 },
 "nbformat": 4,
 "nbformat_minor": 2
}
